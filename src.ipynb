{
 "cells": [
  {
   "cell_type": "markdown",
   "metadata": {},
   "source": [
    "# Phân tích dữ liệu bằng Spark"
   ]
  },
  {
   "cell_type": "code",
   "execution_count": null,
   "metadata": {},
   "outputs": [],
   "source": [
    "California Housing dataset"
   ]
  },
  {
   "cell_type": "code",
   "execution_count": null,
   "metadata": {},
   "outputs": [],
   "source": [
    "Objective - Build a model to predict the housing price"
   ]
  },
  {
   "cell_type": "markdown",
   "metadata": {},
   "source": [
    "# Tạo phiên làm việc cho Spark"
   ]
  },
  {
   "cell_type": "code",
   "execution_count": 1,
   "metadata": {},
   "outputs": [],
   "source": [
    "# Import SparkSession\n",
    "from pyspark.sql import SparkSession\n",
    "\n",
    "# Build the SparkSession\n",
    "spark = SparkSession.builder \\\n",
    "   .master(\"local\") \\\n",
    "   .appName(\"Linear Regression Model\") \\\n",
    "   .getOrCreate()\n",
    "   \n",
    "sc = spark.sparkContext"
   ]
  },
  {
   "cell_type": "code",
   "execution_count": 2,
   "metadata": {},
   "outputs": [],
   "source": [
    "# Lấy dữ liệu data\n",
    "rdd = sc.textFile('/home/hoangthuyen/AI/TriTueNhanTao/CaliforniaHousing/cal_housing.data')\n",
    "\n",
    "# Lấy thông tin các cột\n",
    "header = sc.textFile('/home/hoangthuyen/AI/TriTueNhanTao/CaliforniaHousing/cal_housing.domain')"
   ]
  },
  {
   "cell_type": "markdown",
   "metadata": {},
   "source": [
    "# Tiền xử lý dữ liệu"
   ]
  },
  {
   "cell_type": "code",
   "execution_count": 3,
   "metadata": {},
   "outputs": [
    {
     "data": {
      "text/plain": [
       "['longitude: continuous.',\n",
       " 'latitude: continuous.',\n",
       " 'housingMedianAge: continuous. ',\n",
       " 'totalRooms: continuous. ',\n",
       " 'totalBedrooms: continuous. ',\n",
       " 'population: continuous. ',\n",
       " 'households: continuous. ',\n",
       " 'medianIncome: continuous. ',\n",
       " 'medianHouseValue: continuous. ']"
      ]
     },
     "execution_count": 3,
     "metadata": {},
     "output_type": "execute_result"
    }
   ],
   "source": [
    "header.collect()"
   ]
  },
  {
   "cell_type": "code",
   "execution_count": 4,
   "metadata": {},
   "outputs": [
    {
     "data": {
      "text/plain": [
       "['-122.230000,37.880000,41.000000,880.000000,129.000000,322.000000,126.000000,8.325200,452600.000000',\n",
       " '-122.220000,37.860000,21.000000,7099.000000,1106.000000,2401.000000,1138.000000,8.301400,358500.000000']"
      ]
     },
     "execution_count": 4,
     "metadata": {},
     "output_type": "execute_result"
    }
   ],
   "source": [
    "rdd.take(2)"
   ]
  },
  {
   "cell_type": "code",
   "execution_count": 5,
   "metadata": {},
   "outputs": [
    {
     "data": {
      "text/plain": [
       "[['-122.230000',\n",
       "  '37.880000',\n",
       "  '41.000000',\n",
       "  '880.000000',\n",
       "  '129.000000',\n",
       "  '322.000000',\n",
       "  '126.000000',\n",
       "  '8.325200',\n",
       "  '452600.000000'],\n",
       " ['-122.220000',\n",
       "  '37.860000',\n",
       "  '21.000000',\n",
       "  '7099.000000',\n",
       "  '1106.000000',\n",
       "  '2401.000000',\n",
       "  '1138.000000',\n",
       "  '8.301400',\n",
       "  '358500.000000']]"
      ]
     },
     "execution_count": 5,
     "metadata": {},
     "output_type": "execute_result"
    }
   ],
   "source": [
    "# Split tách các dòng bằng đấu phẩy\n",
    "rdd = rdd.map(lambda line: line.split(\",\"))\n",
    "\n",
    "# Kiểm tra lại bằng 2 dòng đầu tiên \n",
    "rdd.take(2)"
   ]
  },
  {
   "cell_type": "code",
   "execution_count": 6,
   "metadata": {},
   "outputs": [],
   "source": [
    "# Import module cần thiết để chuyển từ RDD sang DataFrame\n",
    "from pyspark.sql import Row\n",
    "\n",
    "# Map RDD thành DF\n",
    "df = rdd.map(lambda line: Row(longitude=line[0], \n",
    "                              latitude=line[1], \n",
    "                              housingMedianAge=line[2],\n",
    "                              totalRooms=line[3],\n",
    "                              totalBedRooms=line[4],\n",
    "                              population=line[5], \n",
    "                              households=line[6],\n",
    "                              medianIncome=line[7],\n",
    "                              medianHouseValue=line[8])).toDF()"
   ]
  },
  {
   "cell_type": "code",
   "execution_count": 7,
   "metadata": {
    "scrolled": false
   },
   "outputs": [
    {
     "name": "stdout",
     "output_type": "stream",
     "text": [
      "+-----------+----------------+---------+-----------+----------------+------------+-----------+-------------+-----------+\n",
      "| households|housingMedianAge| latitude|  longitude|medianHouseValue|medianIncome| population|totalBedRooms| totalRooms|\n",
      "+-----------+----------------+---------+-----------+----------------+------------+-----------+-------------+-----------+\n",
      "| 126.000000|       41.000000|37.880000|-122.230000|   452600.000000|    8.325200| 322.000000|   129.000000| 880.000000|\n",
      "|1138.000000|       21.000000|37.860000|-122.220000|   358500.000000|    8.301400|2401.000000|  1106.000000|7099.000000|\n",
      "| 177.000000|       52.000000|37.850000|-122.240000|   352100.000000|    7.257400| 496.000000|   190.000000|1467.000000|\n",
      "| 219.000000|       52.000000|37.850000|-122.250000|   341300.000000|    5.643100| 558.000000|   235.000000|1274.000000|\n",
      "| 259.000000|       52.000000|37.850000|-122.250000|   342200.000000|    3.846200| 565.000000|   280.000000|1627.000000|\n",
      "+-----------+----------------+---------+-----------+----------------+------------+-----------+-------------+-----------+\n",
      "only showing top 5 rows\n",
      "\n"
     ]
    }
   ],
   "source": [
    "df.show(5)"
   ]
  },
  {
   "cell_type": "code",
   "execution_count": 8,
   "metadata": {
    "scrolled": true
   },
   "outputs": [
    {
     "name": "stdout",
     "output_type": "stream",
     "text": [
      "root\n",
      " |-- households: string (nullable = true)\n",
      " |-- housingMedianAge: string (nullable = true)\n",
      " |-- latitude: string (nullable = true)\n",
      " |-- longitude: string (nullable = true)\n",
      " |-- medianHouseValue: string (nullable = true)\n",
      " |-- medianIncome: string (nullable = true)\n",
      " |-- population: string (nullable = true)\n",
      " |-- totalBedRooms: string (nullable = true)\n",
      " |-- totalRooms: string (nullable = true)\n",
      "\n"
     ]
    }
   ],
   "source": [
    "# in ra kiểu dữ liệu của các cột\n",
    "df.printSchema()"
   ]
  },
  {
   "cell_type": "code",
   "execution_count": 9,
   "metadata": {},
   "outputs": [],
   "source": [
    "# Import tất cả từ `sql.types`\n",
    "from pyspark.sql.types import *\n",
    "\n",
    "# Hàm chuyển đổi kiểu dữ liệu cho DataFrame\n",
    "def convertColumn(df, names, newType):\n",
    "  for name in names: \n",
    "     df = df.withColumn(name, df[name].cast(newType))\n",
    "  return df \n",
    "\n",
    "# Lấy tất cả các cột của dataframe\n",
    "columns = ['households', 'housingMedianAge', 'latitude', 'longitude', 'medianHouseValue', 'medianIncome', 'population', 'totalBedRooms', 'totalRooms']\n",
    "\n",
    "# Conver df to `FloatType()`\n",
    "df = convertColumn(df, columns, FloatType())"
   ]
  },
  {
   "cell_type": "code",
   "execution_count": 10,
   "metadata": {
    "scrolled": true
   },
   "outputs": [
    {
     "name": "stdout",
     "output_type": "stream",
     "text": [
      "root\n",
      " |-- households: float (nullable = true)\n",
      " |-- housingMedianAge: float (nullable = true)\n",
      " |-- latitude: float (nullable = true)\n",
      " |-- longitude: float (nullable = true)\n",
      " |-- medianHouseValue: float (nullable = true)\n",
      " |-- medianIncome: float (nullable = true)\n",
      " |-- population: float (nullable = true)\n",
      " |-- totalBedRooms: float (nullable = true)\n",
      " |-- totalRooms: float (nullable = true)\n",
      "\n"
     ]
    }
   ],
   "source": [
    "df.printSchema()"
   ]
  },
  {
   "cell_type": "code",
   "execution_count": 11,
   "metadata": {
    "scrolled": true
   },
   "outputs": [
    {
     "name": "stdout",
     "output_type": "stream",
     "text": [
      "+----------+-------------+\n",
      "|population|totalBedRooms|\n",
      "+----------+-------------+\n",
      "|     322.0|        129.0|\n",
      "|    2401.0|       1106.0|\n",
      "|     496.0|        190.0|\n",
      "|     558.0|        235.0|\n",
      "|     565.0|        280.0|\n",
      "|     413.0|        213.0|\n",
      "|    1094.0|        489.0|\n",
      "|    1157.0|        687.0|\n",
      "|    1206.0|        665.0|\n",
      "|    1551.0|        707.0|\n",
      "+----------+-------------+\n",
      "only showing top 10 rows\n",
      "\n"
     ]
    }
   ],
   "source": [
    "df.select('population','totalBedRooms').show(10)"
   ]
  },
  {
   "cell_type": "markdown",
   "metadata": {},
   "source": [
    "# Thăm dò, khai thác thông tin từ dữ liệu"
   ]
  },
  {
   "cell_type": "code",
   "execution_count": 12,
   "metadata": {},
   "outputs": [
    {
     "name": "stdout",
     "output_type": "stream",
     "text": [
      "+-------+-----------------+------------------+-----------------+-------------------+------------------+------------------+------------------+-----------------+------------------+\n",
      "|summary|       households|  housingMedianAge|         latitude|          longitude|  medianHouseValue|      medianIncome|        population|    totalBedRooms|        totalRooms|\n",
      "+-------+-----------------+------------------+-----------------+-------------------+------------------+------------------+------------------+-----------------+------------------+\n",
      "|  count|            20640|             20640|            20640|              20640|             20640|             20640|             20640|            20640|             20640|\n",
      "|   mean|499.5396802325581|28.639486434108527|35.63186143109965|-119.56970444871473|206855.81690891474|3.8706710030346416|1425.4767441860465|537.8980135658915|2635.7630813953488|\n",
      "| stddev|382.3297528316098| 12.58555761211163|2.135952380602968|  2.003531742932898|115395.61587441359|1.8998217183639696|  1132.46212176534| 421.247905943133|2181.6152515827944|\n",
      "|    min|              1.0|               1.0|            32.54|            -124.35|           14999.0|            0.4999|               3.0|              1.0|               2.0|\n",
      "|    max|           6082.0|              52.0|            41.95|            -114.31|          500001.0|           15.0001|           35682.0|           6445.0|           39320.0|\n",
      "+-------+-----------------+------------------+-----------------+-------------------+------------------+------------------+------------------+-----------------+------------------+\n",
      "\n"
     ]
    }
   ],
   "source": [
    "df.describe().show()"
   ]
  },
  {
   "cell_type": "code",
   "execution_count": 13,
   "metadata": {
    "scrolled": true
   },
   "outputs": [
    {
     "data": {
      "text/plain": [
       "pyspark.sql.dataframe.DataFrame"
      ]
     },
     "execution_count": 13,
     "metadata": {},
     "output_type": "execute_result"
    }
   ],
   "source": [
    "type(df)"
   ]
  },
  {
   "cell_type": "code",
   "execution_count": 14,
   "metadata": {},
   "outputs": [],
   "source": [
    "# Do DataFrame của Spark không hỗ trợ Matplotlib nên ta chuyển sang DataFrame của Pandas\n",
    "dfraw=df.toPandas()"
   ]
  },
  {
   "cell_type": "code",
   "execution_count": 15,
   "metadata": {},
   "outputs": [
    {
     "data": {
      "text/plain": [
       "pandas.core.frame.DataFrame"
      ]
     },
     "execution_count": 15,
     "metadata": {},
     "output_type": "execute_result"
    }
   ],
   "source": [
    "type(dfraw)"
   ]
  },
  {
   "cell_type": "code",
   "execution_count": 17,
   "metadata": {},
   "outputs": [
    {
     "data": {
      "image/png": "[encoded data removed]",
      "text/plain": [
       "<Figure size 1440x1080 with 9 Axes>"
      ]
     },
     "metadata": {
      "needs_background": "light"
     },
     "output_type": "display_data"
    }
   ],
   "source": [
    "# Sử dụng matplotlib để in ra dữ liệu tổng thể\n",
    "import matplotlib.pyplot as plt\n",
    "dfraw.hist(bins=50, figsize=(20,15))\n",
    "plt.show()"
   ]
  },
  {
   "cell_type": "markdown",
   "metadata": {},
   "source": [
    "Nhận thấy các cột như HousingMedianAge, medianHouseValue, medianIncome tăng đột ngột ở giá trị cuối, có thể đây là giới hạn khi người làm dữ liệu đã cho vào, nên ta xóa các giá trị đó đi để mô hình học máy chính xác hơn "
   ]
  },
  {
   "cell_type": "code",
   "execution_count": 18,
   "metadata": {
    "scrolled": true
   },
   "outputs": [
    {
     "name": "stdout",
     "output_type": "stream",
     "text": [
      "+-------+------------------+-----------------+\n",
      "|summary|  housingMedianAge|            count|\n",
      "+-------+------------------+-----------------+\n",
      "|  count|                52|               52|\n",
      "|   mean|              26.5|396.9230769230769|\n",
      "| stddev|15.154757228892407|236.6788877944161|\n",
      "|    min|               1.0|                4|\n",
      "|    max|              52.0|             1273|\n",
      "+-------+------------------+-----------------+\n",
      "\n"
     ]
    }
   ],
   "source": [
    "df.groupBy(\"housingMedianAge\").count().sort(\"housingMedianAge\",ascending=False).describe().show()"
   ]
  },
  {
   "cell_type": "code",
   "execution_count": 19,
   "metadata": {},
   "outputs": [],
   "source": [
    " df = df.filter(\"housingMedianAge < 52\")"
   ]
  },
  {
   "cell_type": "code",
   "execution_count": 20,
   "metadata": {},
   "outputs": [
    {
     "name": "stdout",
     "output_type": "stream",
     "text": [
      "+-------+------------------+------------------+\n",
      "|summary|  medianHouseValue|             count|\n",
      "+-------+------------------+------------------+\n",
      "|  count|              3767|              3767|\n",
      "|   mean|237751.31404300506| 5.141226440138041|\n",
      "| stddev|120300.77273927572|14.057926473805535|\n",
      "|    min|           14999.0|                 1|\n",
      "|    max|          500001.0|               795|\n",
      "+-------+------------------+------------------+\n",
      "\n"
     ]
    }
   ],
   "source": [
    "df.groupBy(\"medianHouseValue\").count().sort(\"medianHouseValue\",ascending=False).describe().show()"
   ]
  },
  {
   "cell_type": "code",
   "execution_count": 21,
   "metadata": {},
   "outputs": [],
   "source": [
    " df = df.filter(\"medianHouseValue < 500001\")"
   ]
  },
  {
   "cell_type": "code",
   "execution_count": 22,
   "metadata": {},
   "outputs": [
    {
     "name": "stdout",
     "output_type": "stream",
     "text": [
      "+-------+------------------+------------------+\n",
      "|summary|      medianIncome|             count|\n",
      "+-------+------------------+------------------+\n",
      "|  count|             11739|             11739|\n",
      "|   mean| 3.903564126975025|1.5820768378907915|\n",
      "| stddev|1.7688220159486174| 1.933633691854805|\n",
      "|    min|            0.4999|                 1|\n",
      "|    max|           15.0001|                46|\n",
      "+-------+------------------+------------------+\n",
      "\n"
     ]
    }
   ],
   "source": [
    "df.groupBy(\"medianIncome\").count().sort(\"medianIncome\",ascending=True).describe().show()"
   ]
  },
  {
   "cell_type": "code",
   "execution_count": 23,
   "metadata": {},
   "outputs": [],
   "source": [
    "df = df.filter(\"medianIncome < 15.0001\")"
   ]
  },
  {
   "cell_type": "code",
   "execution_count": 24,
   "metadata": {},
   "outputs": [
    {
     "data": {
      "image/png": "[encoded data removed]",
      "text/plain": [
       "<Figure size 1440x1080 with 9 Axes>"
      ]
     },
     "metadata": {
      "needs_background": "light"
     },
     "output_type": "display_data"
    }
   ],
   "source": [
    "# Sử dụng matplotlib để in ra dữ liệu tổng thể\n",
    "dfraw=df.toPandas()\n",
    "import matplotlib.pyplot as plt\n",
    "dfraw.hist(bins=50, figsize=(20,15))\n",
    "plt.show()"
   ]
  },
  {
   "cell_type": "code",
   "execution_count": 25,
   "metadata": {
    "scrolled": true
   },
   "outputs": [
    {
     "data": {
      "text/plain": [
       "<matplotlib.axes._subplots.AxesSubplot at 0x7efc41aca630>"
      ]
     },
     "execution_count": 25,
     "metadata": {},
     "output_type": "execute_result"
    },
    {
     "data": {
      "image/png": "[encoded data removed]",
      "text/plain": [
       "<Figure size 432x288 with 1 Axes>"
      ]
     },
     "metadata": {
      "needs_background": "light"
     },
     "output_type": "display_data"
    }
   ],
   "source": [
    "#In ra biểu đồ của housingMedianAge\n",
    "dfraw['housingMedianAge'].hist(bins=10)"
   ]
  },
  {
   "cell_type": "markdown",
   "metadata": {},
   "source": [
    "Tuổi ngôi nhà chủ yếu nằm trong khoảng 15 đến 45"
   ]
  },
  {
   "cell_type": "code",
   "execution_count": 26,
   "metadata": {},
   "outputs": [
    {
     "data": {
      "text/plain": [
       "<matplotlib.axes._subplots.AxesSubplot at 0x7efc40f65d30>"
      ]
     },
     "execution_count": 26,
     "metadata": {},
     "output_type": "execute_result"
    },
    {
     "data": {
      "image/png": "[encoded data removed]",
      "text/plain": [
       "<Figure size 432x288 with 1 Axes>"
      ]
     },
     "metadata": {
      "needs_background": "light"
     },
     "output_type": "display_data"
    }
   ],
   "source": [
    "dfraw['housingMedianAge'].hist(bins=10,range=[15,45])"
   ]
  },
  {
   "cell_type": "markdown",
   "metadata": {},
   "source": [
    "Tuổi ngôi nhà tập trung nhiều nhất là khoảng 32 đến 37 năm"
   ]
  },
  {
   "cell_type": "code",
   "execution_count": 27,
   "metadata": {},
   "outputs": [
    {
     "data": {
      "text/plain": [
       "<matplotlib.axes._subplots.AxesSubplot at 0x7efc40f2fe10>"
      ]
     },
     "execution_count": 27,
     "metadata": {},
     "output_type": "execute_result"
    },
    {
     "data": {
      "image/png": "[encoded data removed]",
      "text/plain": [
       "<Figure size 432x288 with 1 Axes>"
      ]
     },
     "metadata": {
      "needs_background": "light"
     },
     "output_type": "display_data"
    }
   ],
   "source": [
    "# In ra biểu đồ giá trị của các ngồi nhà\n",
    "dfraw['medianHouseValue'].hist(bins=10)"
   ]
  },
  {
   "cell_type": "markdown",
   "metadata": {},
   "source": [
    "Giá trị của ngôi nhà chủ yếu nằm trong khoàng 80000 đến 250000"
   ]
  },
  {
   "cell_type": "code",
   "execution_count": 28,
   "metadata": {},
   "outputs": [
    {
     "data": {
      "text/plain": [
       "<matplotlib.axes._subplots.AxesSubplot at 0x7efc40e8b3c8>"
      ]
     },
     "execution_count": 28,
     "metadata": {},
     "output_type": "execute_result"
    },
    {
     "data": {
      "image/png": "[encoded data removed]",
      "text/plain": [
       "<Figure size 432x288 with 1 Axes>"
      ]
     },
     "metadata": {
      "needs_background": "light"
     },
     "output_type": "display_data"
    }
   ],
   "source": [
    "dfraw['medianHouseValue'].hist(bins=10, range=[80000,250000])"
   ]
  },
  {
   "cell_type": "code",
   "execution_count": 29,
   "metadata": {},
   "outputs": [
    {
     "data": {
      "text/plain": [
       "<matplotlib.axes._subplots.AxesSubplot at 0x7efc40dbf4e0>"
      ]
     },
     "execution_count": 29,
     "metadata": {},
     "output_type": "execute_result"
    },
    {
     "data": {
      "image/png": "[encoded data removed]",
      "text/plain": [
       "<Figure size 432x288 with 1 Axes>"
      ]
     },
     "metadata": {
      "needs_background": "light"
     },
     "output_type": "display_data"
    }
   ],
   "source": [
    "#in ra mối quan hệ của housingMedianAge và medianHouseValue\n",
    "dfraw.plot.scatter('housingMedianAge','medianHouseValue')"
   ]
  },
  {
   "cell_type": "code",
   "execution_count": 30,
   "metadata": {},
   "outputs": [
    {
     "data": {
      "text/plain": [
       "<matplotlib.axes._subplots.AxesSubplot at 0x7efc40ded400>"
      ]
     },
     "execution_count": 30,
     "metadata": {},
     "output_type": "execute_result"
    },
    {
     "data": {
      "image/png": "[encoded data removed]",
      "text/plain": [
       "<Figure size 432x288 with 2 Axes>"
      ]
     },
     "metadata": {
      "needs_background": "light"
     },
     "output_type": "display_data"
    }
   ],
   "source": [
    "features=df.rdd.map(lambda row: row[0:])\n",
    "\n",
    "from pyspark.ml.linalg import Vectors\n",
    "from pyspark.ml.stat import Correlation\n",
    "import pandas as pd\n",
    "from pyspark.mllib.stat import Statistics\n",
    "\n",
    "\n",
    "corr_mat=Statistics.corr(features, method=\"pearson\")\n",
    "\n",
    "pd.set_option('display.max_columns', 50)\n",
    "\n",
    "\n",
    "col_names = [ \n",
    "              \"households\", \n",
    "              \"housingMedianAge\",\n",
    "              \"latitude\",\n",
    "              \"longitude\", \n",
    "              \"medianHouseValue\", \n",
    "              \"medianIncome\", \n",
    "              \"population\", \n",
    "              \"totalBedRooms\",\n",
    "              \"totalRooms\"]\n",
    "corr_df = pd.DataFrame(\n",
    "                    corr_mat, \n",
    "                    index=col_names, \n",
    "                    columns=col_names)\n",
    "\n",
    "import seaborn as sns\n",
    "%matplotlib inline\n",
    "sns.heatmap(corr_df, \n",
    "        xticklabels=corr_df.columns,\n",
    "        yticklabels=corr_df.columns)"
   ]
  },
  {
   "cell_type": "code",
   "execution_count": 31,
   "metadata": {},
   "outputs": [
    {
     "data": {
      "text/plain": [
       "medianHouseValue    1.000000\n",
       "medianIncome        0.661523\n",
       "totalRooms          0.152887\n",
       "households          0.100518\n",
       "totalBedRooms       0.081073\n",
       "population          0.021883\n",
       "housingMedianAge    0.014984\n",
       "longitude          -0.021911\n",
       "latitude           -0.172343\n",
       "Name: medianHouseValue, dtype: float64"
      ]
     },
     "execution_count": 31,
     "metadata": {},
     "output_type": "execute_result"
    }
   ],
   "source": [
    "corr_matrix = dfraw.corr()\n",
    "corr_matrix[\"medianHouseValue\"].sort_values(ascending=False)"
   ]
  },
  {
   "cell_type": "markdown",
   "metadata": {},
   "source": [
    "# Kỹ thuật thêm 1 số đặc điểm"
   ]
  },
  {
   "cell_type": "code",
   "execution_count": 32,
   "metadata": {},
   "outputs": [
    {
     "data": {
      "text/plain": [
       "[Row(households=126.0, housingMedianAge=41.0, latitude=37.880001068115234, longitude=-122.2300033569336, medianHouseValue=4.526, medianIncome=8.325200080871582, population=322.0, totalBedRooms=129.0, totalRooms=880.0),\n",
       " Row(households=1138.0, housingMedianAge=21.0, latitude=37.86000061035156, longitude=-122.22000122070312, medianHouseValue=3.585, medianIncome=8.301400184631348, population=2401.0, totalBedRooms=1106.0, totalRooms=7099.0)]"
      ]
     },
     "execution_count": 32,
     "metadata": {},
     "output_type": "execute_result"
    }
   ],
   "source": [
    "# Import `sql.functions` \n",
    "from pyspark.sql.functions import *\n",
    "\n",
    "# Điều chỉnh giá trị của `medianHouseValue`\n",
    "df = df.withColumn(\"medianHouseValue\", col(\"medianHouseValue\")/100000)\n",
    "\n",
    "# Hiện thị 2 dòng đầu sau khi điều chỉnh\n",
    "df.take(2)"
   ]
  },
  {
   "cell_type": "code",
   "execution_count": 33,
   "metadata": {},
   "outputs": [
    {
     "data": {
      "text/plain": [
       "Row(households=126.0, housingMedianAge=41.0, latitude=37.880001068115234, longitude=-122.2300033569336, medianHouseValue=4.526, medianIncome=8.325200080871582, population=322.0, totalBedRooms=129.0, totalRooms=880.0, roomsPerHousehold=6.984126984126984, populationPerHousehold=2.5555555555555554, bedroomsPerRoom=0.14659090909090908)"
      ]
     },
     "execution_count": 33,
     "metadata": {},
     "output_type": "execute_result"
    }
   ],
   "source": [
    "# Thêm cột mới bằng `totalRooms` / `households`\n",
    "roomsPerHousehold = df.select(col(\"totalRooms\")/col(\"households\"))\n",
    "\n",
    "# Thêm cột mới bằng `population` / `households`\n",
    "populationPerHousehold = df.select(col(\"population\")/col(\"households\"))\n",
    "\n",
    "# Thêm cột mới bằng `totalBedRooms` / `totalRooms`\n",
    "bedroomsPerRoom = df.select(col(\"totalBedRooms\")/col(\"totalRooms\"))\n",
    "\n",
    "# Add các cột mới vào df\n",
    "df = df.withColumn(\"roomsPerHousehold\", col(\"totalRooms\")/col(\"households\")) \\\n",
    "   .withColumn(\"populationPerHousehold\", col(\"population\")/col(\"households\")) \\\n",
    "   .withColumn(\"bedroomsPerRoom\", col(\"totalBedRooms\")/col(\"totalRooms\"))\n",
    "   \n",
    "# in kết quả\n",
    "df.first()"
   ]
  },
  {
   "cell_type": "code",
   "execution_count": 34,
   "metadata": {},
   "outputs": [],
   "source": [
    "# Chọn các cột có khả năng đánh giá giá của ngôi nhà\n",
    "df = df.select(\"medianHouseValue\", \n",
    "              \"totalBedRooms\", \n",
    "              \"population\",\n",
    "              \"housingMedianAge\",\n",
    "              \"households\", \n",
    "              \"medianIncome\", \n",
    "              \"roomsPerHousehold\", \n",
    "            \"populationPerHousehold\", \n",
    "              \"bedroomsPerRoom\",\n",
    "              \"totalRooms\")"
   ]
  },
  {
   "cell_type": "code",
   "execution_count": 35,
   "metadata": {},
   "outputs": [
    {
     "data": {
      "text/plain": [
       "[Row(medianHouseValue=4.526, totalBedRooms=129.0, population=322.0, housingMedianAge=41.0, households=126.0, medianIncome=8.325200080871582, roomsPerHousehold=6.984126984126984, populationPerHousehold=2.5555555555555554, bedroomsPerRoom=0.14659090909090908, totalRooms=880.0),\n",
       " Row(medianHouseValue=3.585, totalBedRooms=1106.0, population=2401.0, housingMedianAge=21.0, households=1138.0, medianIncome=8.301400184631348, roomsPerHousehold=6.238137082601054, populationPerHousehold=2.109841827768014, bedroomsPerRoom=0.15579659106916466, totalRooms=7099.0)]"
      ]
     },
     "execution_count": 35,
     "metadata": {},
     "output_type": "execute_result"
    }
   ],
   "source": [
    "# In ra 2 dòng đầu sau khi chọn các cột\n",
    "df.take(2)"
   ]
  },
  {
   "cell_type": "markdown",
   "metadata": {},
   "source": [
    "# Điều chỉnh độ giãn cách của thuộc tính (Features Scaling)"
   ]
  },
  {
   "cell_type": "code",
   "execution_count": 36,
   "metadata": {},
   "outputs": [],
   "source": [
    "import pyspark.mllib\n",
    "import pyspark.mllib.regression\n",
    "from pyspark.mllib.regression import LabeledPoint\n",
    "from pyspark.sql.functions import *"
   ]
  },
  {
   "cell_type": "code",
   "execution_count": 37,
   "metadata": {},
   "outputs": [
    {
     "name": "stdout",
     "output_type": "stream",
     "text": [
      "root\n",
      " |-- medianHouseValue: double (nullable = true)\n",
      " |-- totalBedRooms: float (nullable = true)\n",
      " |-- population: float (nullable = true)\n",
      " |-- housingMedianAge: float (nullable = true)\n",
      " |-- households: float (nullable = true)\n",
      " |-- medianIncome: float (nullable = true)\n",
      " |-- roomsPerHousehold: double (nullable = true)\n",
      " |-- populationPerHousehold: double (nullable = true)\n",
      " |-- bedroomsPerRoom: double (nullable = true)\n",
      " |-- totalRooms: float (nullable = true)\n",
      "\n"
     ]
    }
   ],
   "source": [
    "df.printSchema()"
   ]
  },
  {
   "cell_type": "code",
   "execution_count": 38,
   "metadata": {},
   "outputs": [],
   "source": [
    "# Import `DenseVector`\n",
    "from pyspark.ml.linalg import DenseVector\n",
    "\n",
    "# Lấy label và features gắn vào `input_data` \n",
    "input_data = df.rdd.map(lambda x: (x[0], DenseVector(x[1:])))\n",
    "\n",
    "# Tạo 1 dataframe mới chứa label và các features \n",
    "dfnew = spark.createDataFrame(input_data, [\"label\", \"features\"])"
   ]
  },
  {
   "cell_type": "code",
   "execution_count": 39,
   "metadata": {
    "scrolled": true
   },
   "outputs": [
    {
     "data": {
      "text/plain": [
       "[Row(label=4.526, features=DenseVector([129.0, 322.0, 41.0, 126.0, 8.3252, 6.9841, 2.5556, 0.1466, 880.0]), features_scaled=DenseVector([0.3005, 0.2769, 3.5868, 0.3234, 5.3171, 2.9921, 0.2364, 2.6358, 0.3957])),\n",
       " Row(label=3.585, features=DenseVector([1106.0, 2401.0, 21.0, 1138.0, 8.3014, 6.2381, 2.1098, 0.1558, 7099.0]), features_scaled=DenseVector([2.5766, 2.0646, 1.8371, 2.9213, 5.3019, 2.6725, 0.1951, 2.8013, 3.1923]))]"
      ]
     },
     "execution_count": 39,
     "metadata": {},
     "output_type": "execute_result"
    }
   ],
   "source": [
    "# Import `StandardScaler` \n",
    "from pyspark.ml.feature import StandardScaler\n",
    "\n",
    "# Khởi tạo `standardScaler`\n",
    "standardScaler = StandardScaler(inputCol=\"features\", outputCol=\"features_scaled\")\n",
    "\n",
    "# Fit the DataFrame\n",
    "scaler = standardScaler.fit(dfnew)\n",
    "\n",
    "# Transform the data\n",
    "scaled_df = scaler.transform(dfnew)\n",
    "\n",
    "# In ra 2 dòng đầu tiên\n",
    "scaled_df.take(2)"
   ]
  },
  {
   "cell_type": "code",
   "execution_count": 40,
   "metadata": {},
   "outputs": [],
   "source": [
    "# Tách dữ liệu thành train và test sets\n",
    "train_data, test_data = scaled_df.randomSplit([.8,.2],seed=1234)"
   ]
  },
  {
   "cell_type": "markdown",
   "metadata": {},
   "source": [
    "# Model Building - Linear Regression"
   ]
  },
  {
   "cell_type": "code",
   "execution_count": 41,
   "metadata": {},
   "outputs": [],
   "source": [
    "# Import `LinearRegression`\n",
    "from pyspark.ml.regression import LinearRegression\n",
    "\n",
    "# Khởi tạo `lr`\n",
    "lr = LinearRegression(labelCol=\"label\", maxIter=10, regParam=0.3, elasticNetParam=0.8)\n",
    "# Fit the data\n",
    "linearModel = lr.fit(train_data)"
   ]
  },
  {
   "cell_type": "code",
   "execution_count": 42,
   "metadata": {
    "scrolled": false
   },
   "outputs": [
    {
     "data": {
      "text/plain": [
       "[(1.1412601082319624, 0.14999),\n",
       " (1.4094361836495775, 0.14999),\n",
       " (1.5141838846720497, 0.14999),\n",
       " (1.9721839598238238, 0.325),\n",
       " (1.5456821414212252, 0.375)]"
      ]
     },
     "execution_count": 42,
     "metadata": {},
     "output_type": "execute_result"
    }
   ],
   "source": [
    "# Tạo predictions\n",
    "predicted = linearModel.transform(test_data)\n",
    "\n",
    "# Chọn ra predict và lables\n",
    "predictions = predicted.select(\"prediction\").rdd.map(lambda x: x[0])\n",
    "labels = predicted.select(\"label\").rdd.map(lambda x: x[0])\n",
    "\n",
    "# Ghép predict và label thành mảng\n",
    "predictionAndLabel = predictions.zip(labels).collect()\n",
    "\n",
    "# In ra 5 phần tử đầu tiên\n",
    "predictionAndLabel[:5]"
   ]
  },
  {
   "cell_type": "code",
   "execution_count": 43,
   "metadata": {},
   "outputs": [
    {
     "data": {
      "text/plain": [
       "DenseVector([0.0, 0.0, 0.0, 0.0, 0.2384, 0.0, 0.0, 0.0, 0.0])"
      ]
     },
     "execution_count": 43,
     "metadata": {},
     "output_type": "execute_result"
    }
   ],
   "source": [
    "# Hệ số của mô hình linearModel\n",
    "linearModel.coefficients"
   ]
  },
  {
   "cell_type": "markdown",
   "metadata": {},
   "source": [
    "# Model Evaluation - Linear Regression"
   ]
  },
  {
   "cell_type": "code",
   "execution_count": 44,
   "metadata": {},
   "outputs": [
    {
     "data": {
      "text/plain": [
       "0.761986568816923"
      ]
     },
     "execution_count": 44,
     "metadata": {},
     "output_type": "execute_result"
    }
   ],
   "source": [
    "# Lấy ra RMSE\n",
    "linearModel.summary.rootMeanSquaredError"
   ]
  },
  {
   "cell_type": "code",
   "execution_count": 45,
   "metadata": {},
   "outputs": [
    {
     "data": {
      "text/plain": [
       "0.3670505378912037"
      ]
     },
     "execution_count": 45,
     "metadata": {},
     "output_type": "execute_result"
    }
   ],
   "source": [
    "# Lấy ra R2\n",
    "linearModel.summary.r2"
   ]
  },
  {
   "cell_type": "markdown",
   "metadata": {},
   "source": [
    "# RANDOM FORREST"
   ]
  },
  {
   "cell_type": "code",
   "execution_count": 46,
   "metadata": {},
   "outputs": [],
   "source": [
    "from pyspark.ml import Pipeline\n",
    "from pyspark.ml.regression import RandomForestRegressor\n",
    "from pyspark.ml.feature import VectorIndexer\n",
    "from pyspark.ml.evaluation import RegressionEvaluator"
   ]
  },
  {
   "cell_type": "code",
   "execution_count": 47,
   "metadata": {},
   "outputs": [],
   "source": [
    "#Chọn các cột có khả năng đánh giá giá của ngôi nhà\n",
    "df4 = df.select(\"medianHouseValue\",\n",
    "               \"totalBedRooms\", \n",
    "              \"population\",\n",
    "              \"housingMedianAge\",\n",
    "              \"households\", \n",
    "              \"medianIncome\", \n",
    "              \"roomsPerHousehold\", \n",
    "            \"populationPerHousehold\", \n",
    "              \"bedroomsPerRoom\",)"
   ]
  },
  {
   "cell_type": "code",
   "execution_count": 48,
   "metadata": {},
   "outputs": [
    {
     "name": "stdout",
     "output_type": "stream",
     "text": [
      "+----------------+-------------+----------+----------------+----------+------------+------------------+----------------------+-------------------+\n",
      "|medianHouseValue|totalBedRooms|population|housingMedianAge|households|medianIncome| roomsPerHousehold|populationPerHousehold|    bedroomsPerRoom|\n",
      "+----------------+-------------+----------+----------------+----------+------------+------------------+----------------------+-------------------+\n",
      "|           4.526|        129.0|     322.0|            41.0|     126.0|      8.3252| 6.984126984126984|    2.5555555555555554|0.14659090909090908|\n",
      "|           3.585|       1106.0|    2401.0|            21.0|    1138.0|      8.3014| 6.238137082601054|     2.109841827768014|0.15579659106916466|\n",
      "|           2.267|        665.0|    1206.0|            42.0|     595.0|      2.0804| 4.294117647058823|     2.026890756302521| 0.2602739726027397|\n",
      "|             1.4|        283.0|     697.0|            50.0|     264.0|       2.125| 4.242424242424242|     2.640151515151515| 0.2526785714285714|\n",
      "|           1.587|        455.0|     990.0|            50.0|     419.0|      1.9911| 5.343675417661098|    2.3627684964200477|0.20321572130415363|\n",
      "|           1.475|        184.0|     409.0|            40.0|     166.0|      1.3578| 4.524096385542169|     2.463855421686747|0.24500665778961384|\n",
      "|           1.598|        367.0|     929.0|            42.0|     366.0|      1.7135| 4.478142076502732|    2.5382513661202184| 0.2239170225747407|\n",
      "|           1.075|        123.0|     317.0|            41.0|     119.0|      2.4038| 4.495798319327731|    2.6638655462184873|0.22990654205607478|\n",
      "|           0.938|        244.0|     607.0|            49.0|     239.0|      2.4597|4.7280334728033475|    2.5397489539748954|  0.215929203539823|\n",
      "|           1.089|        492.0|    1131.0|            50.0|     473.0|      1.6424|  4.40169133192389|    2.3911205073995774|0.23631123919308358|\n",
      "|           1.223|        447.0|     863.0|            49.0|     378.0|      1.9274| 5.068783068783069|    2.2830687830687832|0.23329853862212943|\n",
      "|           1.104|        409.0|    1026.0|            48.0|     335.0|      1.7969| 5.737313432835821|     3.062686567164179|0.21279916753381894|\n",
      "|           1.049|        366.0|     754.0|            49.0|     329.0|       1.375|5.0303951367781155|     2.291793313069909|0.22114803625377644|\n",
      "|           1.097|        574.0|    1258.0|            51.0|     536.0|      2.7303| 4.972014925373134|    2.3470149253731343| 0.2153846153846154|\n",
      "|           0.972|        282.0|     570.0|            49.0|     264.0|      1.4861|4.6022727272727275|     2.159090909090909|0.23209876543209876|\n",
      "|           1.045|        432.0|     987.0|            48.0|     374.0|      1.0972| 4.807486631016043|    2.6390374331550803|0.24026696329254726|\n",
      "|             1.5|        311.0|     517.0|            51.0|     249.0|      1.2852|3.7590361445783134|     2.076305220883534|0.33226495726495725|\n",
      "|           1.188|        202.0|     462.0|            49.0|     189.0|       1.025|3.7724867724867726|    2.4444444444444446|0.28330995792426367|\n",
      "|           1.425|        322.0|     616.0|            50.0|     304.0|       2.026| 3.700657894736842|     2.026315789473684| 0.2862222222222222|\n",
      "|           1.375|        312.0|     558.0|            43.0|     253.0|      1.7348|3.9802371541501977|     2.205533596837945| 0.3098311817279047|\n",
      "+----------------+-------------+----------+----------------+----------+------------+------------------+----------------------+-------------------+\n",
      "only showing top 20 rows\n",
      "\n"
     ]
    }
   ],
   "source": [
    "df4.show()"
   ]
  },
  {
   "cell_type": "markdown",
   "metadata": {},
   "source": [
    "# RANDOM FOREST REGRESSION"
   ]
  },
  {
   "cell_type": "code",
   "execution_count": 49,
   "metadata": {
    "scrolled": true
   },
   "outputs": [
    {
     "data": {
      "text/html": [
       "<div>\n",
       "<style scoped>\n",
       "    .dataframe tbody tr th:only-of-type {\n",
       "        vertical-align: middle;\n",
       "    }\n",
       "\n",
       "    .dataframe tbody tr th {\n",
       "        vertical-align: top;\n",
       "    }\n",
       "\n",
       "    .dataframe thead th {\n",
       "        text-align: right;\n",
       "    }\n",
       "</style>\n",
       "<table border=\"1\" class=\"dataframe\">\n",
       "  <thead>\n",
       "    <tr style=\"text-align: right;\">\n",
       "      <th></th>\n",
       "      <th>medianHouseValue</th>\n",
       "      <th>totalBedRooms</th>\n",
       "      <th>population</th>\n",
       "      <th>housingMedianAge</th>\n",
       "      <th>households</th>\n",
       "      <th>medianIncome</th>\n",
       "      <th>roomsPerHousehold</th>\n",
       "      <th>populationPerHousehold</th>\n",
       "      <th>bedroomsPerRoom</th>\n",
       "    </tr>\n",
       "  </thead>\n",
       "  <tbody>\n",
       "    <tr>\n",
       "      <th>0</th>\n",
       "      <td>4.526</td>\n",
       "      <td>129.0</td>\n",
       "      <td>322.0</td>\n",
       "      <td>41.0</td>\n",
       "      <td>126.0</td>\n",
       "      <td>8.3252</td>\n",
       "      <td>6.984127</td>\n",
       "      <td>2.555556</td>\n",
       "      <td>0.146591</td>\n",
       "    </tr>\n",
       "    <tr>\n",
       "      <th>1</th>\n",
       "      <td>3.585</td>\n",
       "      <td>1106.0</td>\n",
       "      <td>2401.0</td>\n",
       "      <td>21.0</td>\n",
       "      <td>1138.0</td>\n",
       "      <td>8.3014</td>\n",
       "      <td>6.238137</td>\n",
       "      <td>2.109842</td>\n",
       "      <td>0.155797</td>\n",
       "    </tr>\n",
       "    <tr>\n",
       "      <th>2</th>\n",
       "      <td>2.267</td>\n",
       "      <td>665.0</td>\n",
       "      <td>1206.0</td>\n",
       "      <td>42.0</td>\n",
       "      <td>595.0</td>\n",
       "      <td>2.0804</td>\n",
       "      <td>4.294118</td>\n",
       "      <td>2.026891</td>\n",
       "      <td>0.260274</td>\n",
       "    </tr>\n",
       "    <tr>\n",
       "      <th>3</th>\n",
       "      <td>1.400</td>\n",
       "      <td>283.0</td>\n",
       "      <td>697.0</td>\n",
       "      <td>50.0</td>\n",
       "      <td>264.0</td>\n",
       "      <td>2.1250</td>\n",
       "      <td>4.242424</td>\n",
       "      <td>2.640152</td>\n",
       "      <td>0.252679</td>\n",
       "    </tr>\n",
       "    <tr>\n",
       "      <th>4</th>\n",
       "      <td>1.587</td>\n",
       "      <td>455.0</td>\n",
       "      <td>990.0</td>\n",
       "      <td>50.0</td>\n",
       "      <td>419.0</td>\n",
       "      <td>1.9911</td>\n",
       "      <td>5.343675</td>\n",
       "      <td>2.362768</td>\n",
       "      <td>0.203216</td>\n",
       "    </tr>\n",
       "  </tbody>\n",
       "</table>\n",
       "</div>"
      ],
      "text/plain": [
       "   medianHouseValue  totalBedRooms  population  housingMedianAge  households  \\\n",
       "0             4.526          129.0       322.0              41.0       126.0   \n",
       "1             3.585         1106.0      2401.0              21.0      1138.0   \n",
       "2             2.267          665.0      1206.0              42.0       595.0   \n",
       "3             1.400          283.0       697.0              50.0       264.0   \n",
       "4             1.587          455.0       990.0              50.0       419.0   \n",
       "\n",
       "   medianIncome  roomsPerHousehold  populationPerHousehold  bedroomsPerRoom  \n",
       "0        8.3252           6.984127                2.555556         0.146591  \n",
       "1        8.3014           6.238137                2.109842         0.155797  \n",
       "2        2.0804           4.294118                2.026891         0.260274  \n",
       "3        2.1250           4.242424                2.640152         0.252679  \n",
       "4        1.9911           5.343675                2.362768         0.203216  "
      ]
     },
     "execution_count": 49,
     "metadata": {},
     "output_type": "execute_result"
    }
   ],
   "source": [
    "# In ra 5 hàng đầu tiên\n",
    "df4.toPandas().head()"
   ]
  },
  {
   "cell_type": "code",
   "execution_count": 50,
   "metadata": {},
   "outputs": [],
   "source": [
    "# Lấy các features từ df4\n",
    "features=df4.rdd.map(lambda row: row[1:])"
   ]
  },
  {
   "cell_type": "code",
   "execution_count": 51,
   "metadata": {},
   "outputs": [],
   "source": [
    "from pyspark.mllib.util import MLUtils\n",
    "from pyspark.mllib.linalg import Vectors\n",
    "from pyspark.ml.linalg import Vectors\n",
    "from pyspark.mllib.feature import StandardScaler"
   ]
  },
  {
   "cell_type": "code",
   "execution_count": 52,
   "metadata": {},
   "outputs": [],
   "source": [
    "# Ta lại căn chỉnh lại tỷ lệ giữa các features\n",
    "standardizer = StandardScaler()\n",
    "model = standardizer.fit(features)\n",
    "features_transform = model.transform(features)"
   ]
  },
  {
   "cell_type": "code",
   "execution_count": 53,
   "metadata": {
    "scrolled": true
   },
   "outputs": [
    {
     "data": {
      "text/plain": [
       "[DenseVector([0.3005, 0.2769, 3.5868, 0.3234, 5.3171, 2.9921, 0.2364, 2.6358]),\n",
       " DenseVector([2.5766, 2.0646, 1.8371, 2.9213, 5.3019, 2.6725, 0.1951, 2.8013])]"
      ]
     },
     "execution_count": 53,
     "metadata": {},
     "output_type": "execute_result"
    }
   ],
   "source": [
    "features_transform.take(2)"
   ]
  },
  {
   "cell_type": "code",
   "execution_count": 54,
   "metadata": {},
   "outputs": [],
   "source": [
    "# Lấy các label từ df4\n",
    "labels=df4.rdd.map(lambda row: row[0])"
   ]
  },
  {
   "cell_type": "code",
   "execution_count": 55,
   "metadata": {},
   "outputs": [
    {
     "data": {
      "text/plain": [
       "[(4.526,\n",
       "  DenseVector([0.3005, 0.2769, 3.5868, 0.3234, 5.3171, 2.9921, 0.2364, 2.6358])),\n",
       " (3.585,\n",
       "  DenseVector([2.5766, 2.0646, 1.8371, 2.9213, 5.3019, 2.6725, 0.1951, 2.8013]))]"
      ]
     },
     "execution_count": 55,
     "metadata": {},
     "output_type": "execute_result"
    }
   ],
   "source": [
    "# Ghép label và feature đã căn chỉnh tỷ lệ lại\n",
    "transformedData=labels.zip(features_transform)\n",
    "transformedData.take(2)"
   ]
  },
  {
   "cell_type": "code",
   "execution_count": 56,
   "metadata": {},
   "outputs": [
    {
     "data": {
      "text/plain": [
       "pyspark.rdd.PipelinedRDD"
      ]
     },
     "execution_count": 56,
     "metadata": {},
     "output_type": "execute_result"
    }
   ],
   "source": [
    "# Tạo lại dữ liệu LabeledPoint\n",
    "transformedData = transformedData.map(lambda row : LabeledPoint(row[0],row[1]))\n",
    "transformedData.take(5)\n",
    "type(transformedData)"
   ]
  },
  {
   "cell_type": "code",
   "execution_count": 57,
   "metadata": {},
   "outputs": [],
   "source": [
    "# Tách dữ liệu thành train và test sets\n",
    "trainingData, testingData = transformedData.randomSplit([.8,.2])"
   ]
  },
  {
   "cell_type": "markdown",
   "metadata": {},
   "source": [
    "# Build the Model - Random Forest"
   ]
  },
  {
   "cell_type": "code",
   "execution_count": 58,
   "metadata": {},
   "outputs": [],
   "source": [
    "# Import RamdomForest\n",
    "from pyspark.mllib.tree import RandomForest, RandomForestModel\n",
    "from pyspark.mllib.util import MLUtils\n",
    "model = RandomForest.trainRegressor(trainingData, categoricalFeaturesInfo={},\n",
    "                                        numTrees=3, featureSubsetStrategy=\"auto\",\n",
    "                                        impurity='variance', maxDepth=4, maxBins=32)"
   ]
  },
  {
   "cell_type": "code",
   "execution_count": 59,
   "metadata": {},
   "outputs": [],
   "source": [
    "# Khởi tạo dự đoán predict\n",
    "predictions = model.predict(testingData.map(lambda x: x.features))"
   ]
  },
  {
   "cell_type": "code",
   "execution_count": 60,
   "metadata": {},
   "outputs": [],
   "source": [
    "# Ghép label và các predict lại thành mảng\n",
    "labelsAndPredictions = testingData.map(lambda lp: lp.label).zip(predictions)"
   ]
  },
  {
   "cell_type": "code",
   "execution_count": 61,
   "metadata": {
    "scrolled": true
   },
   "outputs": [
    {
     "data": {
      "text/plain": [
       "[(1.049, 1.5315796261164607), (1.719, 1.9353146378681638)]"
      ]
     },
     "execution_count": 61,
     "metadata": {},
     "output_type": "execute_result"
    }
   ],
   "source": [
    "# In ra 2 kết quả đầu tiên\n",
    "labelsAndPredictions.take(2)"
   ]
  },
  {
   "cell_type": "markdown",
   "metadata": {},
   "source": [
    "# Model Evaluation"
   ]
  },
  {
   "cell_type": "code",
   "execution_count": 62,
   "metadata": {},
   "outputs": [],
   "source": [
    "# Tính RMSE\n",
    "import math\n",
    "testMSE = labelsAndPredictions.map(lambda lp: (lp[0] - lp[1]) * (lp[0] - lp[1])).sum() /\\\n",
    "    float(testingData.count())\n",
    "TestRMSE = math.sqrt(testMSE)"
   ]
  },
  {
   "cell_type": "code",
   "execution_count": 63,
   "metadata": {},
   "outputs": [
    {
     "name": "stdout",
     "output_type": "stream",
     "text": [
      "Test Root Mean Squared Error = 0.7239577787210696\n"
     ]
    }
   ],
   "source": [
    "# In RMSE của mô hình ramdom forest\n",
    "print('Test Root Mean Squared Error = ' + str(TestRMSE))"
   ]
  },
  {
   "cell_type": "markdown",
   "metadata": {},
   "source": [
    "# Build the Model - Gradient Boosting Trees"
   ]
  },
  {
   "cell_type": "code",
   "execution_count": 64,
   "metadata": {},
   "outputs": [],
   "source": [
    "# Import GradientBoostedTrees\n",
    "from pyspark.mllib.tree import GradientBoostedTrees, GradientBoostedTreesModel\n",
    "from pyspark.mllib.util import MLUtils"
   ]
  },
  {
   "cell_type": "markdown",
   "metadata": {},
   "source": [
    "# Gradient Boosting Trees- With 3 iterations"
   ]
  },
  {
   "cell_type": "code",
   "execution_count": 65,
   "metadata": {},
   "outputs": [],
   "source": [
    "# Khởi tạo model với 3 vòng lặp\n",
    "model = GradientBoostedTrees.trainRegressor(trainingData,\n",
    "                                            categoricalFeaturesInfo={}, numIterations=3)"
   ]
  },
  {
   "cell_type": "code",
   "execution_count": 66,
   "metadata": {},
   "outputs": [],
   "source": [
    "# Khởi tạo dự đoán predict\n",
    "predictions = model.predict(testingData.map(lambda x: x.features))\n",
    "labelsAndPredictions = testingData.map(lambda lp: lp.label).zip(predictions)"
   ]
  },
  {
   "cell_type": "code",
   "execution_count": 67,
   "metadata": {},
   "outputs": [
    {
     "data": {
      "text/plain": [
       "[(1.049, 1.136936698453511), (1.719, 1.6324059009794134)]"
      ]
     },
     "execution_count": 67,
     "metadata": {},
     "output_type": "execute_result"
    }
   ],
   "source": [
    "# In ra 2 kết quả đầu tiên\n",
    "labelsAndPredictions.take(2)"
   ]
  },
  {
   "cell_type": "markdown",
   "metadata": {},
   "source": [
    "# Model Evaluation "
   ]
  },
  {
   "cell_type": "code",
   "execution_count": 68,
   "metadata": {},
   "outputs": [],
   "source": [
    "# Tính RMSE\n",
    "testMSE = labelsAndPredictions.map(lambda lp: (lp[0] - lp[1]) * (lp[0] - lp[1])).sum() /\\\n",
    "    float(testingData.count())\n",
    "TestRMSE = math.sqrt(testMSE)"
   ]
  },
  {
   "cell_type": "code",
   "execution_count": 69,
   "metadata": {},
   "outputs": [
    {
     "name": "stdout",
     "output_type": "stream",
     "text": [
      "Test Root Mean Squared Error = 0.6889557384091202\n",
      "Learned regression GBT model:\n",
      "TreeEnsembleModel regressor with 3 trees\n",
      "\n",
      "  Tree 0:\n",
      "    If (feature 4 <= 2.817585146725486)\n",
      "     If (feature 4 <= 1.8370571662679316)\n",
      "      If (feature 7 <= 4.880272880856413)\n",
      "       Predict: 1.125292888165038\n",
      "      Else (feature 7 > 4.880272880856413)\n",
      "       Predict: 1.604129431009957\n",
      "     Else (feature 4 > 1.8370571662679316)\n",
      "      If (feature 6 <= 0.22347328821536513)\n",
      "       Predict: 2.364351117519827\n",
      "      Else (feature 6 > 0.22347328821536513)\n",
      "       Predict: 1.6829905109489056\n",
      "    Else (feature 4 > 2.817585146725486)\n",
      "     If (feature 4 <= 3.7764622080247143)\n",
      "      If (feature 6 <= 0.26005444800582855)\n",
      "       Predict: 2.749725239616613\n",
      "      Else (feature 6 > 0.26005444800582855)\n",
      "       Predict: 2.1482217280813227\n",
      "     Else (feature 4 > 3.7764622080247143)\n",
      "      If (feature 4 <= 4.54929276895251)\n",
      "       Predict: 3.096714437367305\n",
      "      Else (feature 4 > 4.54929276895251)\n",
      "       Predict: 3.702124183006537\n",
      "  Tree 1:\n",
      "    If (feature 2 <= 1.7933754491648974)\n",
      "     If (feature 4 <= 1.834215002994671)\n",
      "      If (feature 4 <= 1.4497957083966133)\n",
      "       Predict: -0.32730638849852467\n",
      "      Else (feature 4 > 1.4497957083966133)\n",
      "       Predict: 0.19243887393272283\n",
      "     Else (feature 4 > 1.834215002994671)\n",
      "      If (feature 1 <= 1.1871085666300736)\n",
      "       Predict: -0.5764227983416406\n",
      "      Else (feature 1 > 1.1871085666300736)\n",
      "       Predict: -0.26365211581632125\n",
      "    Else (feature 2 > 1.7933754491648974)\n",
      "     If (feature 6 <= 0.19412366788579838)\n",
      "      If (feature 4 <= 1.376092392349825)\n",
      "       Predict: 0.06694588501808904\n",
      "      Else (feature 4 > 1.376092392349825)\n",
      "       Predict: 1.4219119653727597\n",
      "     Else (feature 6 > 0.19412366788579838)\n",
      "      If (feature 4 <= 1.376092392349825)\n",
      "       Predict: -0.4555055251949601\n",
      "      Else (feature 4 > 1.376092392349825)\n",
      "       Predict: 0.17423569697532898\n",
      "  Tree 2:\n",
      "    If (feature 2 <= 2.143302366075121)\n",
      "     If (feature 5 <= 2.0812944519669507)\n",
      "      If (feature 2 <= 1.5309302614822293)\n",
      "       Predict: -0.15665489785411682\n",
      "      Else (feature 2 > 1.5309302614822293)\n",
      "       Predict: 0.21581881467647626\n",
      "     Else (feature 5 > 2.0812944519669507)\n",
      "      If (feature 4 <= 3.2076887678700645)\n",
      "       Predict: -0.4168200121111518\n",
      "      Else (feature 4 > 3.2076887678700645)\n",
      "       Predict: -0.12121648501909103\n",
      "    Else (feature 2 > 2.143302366075121)\n",
      "     If (feature 6 <= 0.2121143339946251)\n",
      "      If (feature 6 <= 0.18249677299392073)\n",
      "       Predict: 1.345818606270226\n",
      "      Else (feature 6 > 0.18249677299392073)\n",
      "       Predict: 0.5719436280796887\n",
      "     Else (feature 6 > 0.2121143339946251)\n",
      "      If (feature 4 <= 2.361602190901653)\n",
      "       Predict: -0.13246786951102205\n",
      "      Else (feature 4 > 2.361602190901653)\n",
      "       Predict: 0.3015386640723795\n",
      "\n"
     ]
    }
   ],
   "source": [
    "# In ra RMSE và cây của mô hình\n",
    "print('Test Root Mean Squared Error = ' + str(TestRMSE))\n",
    "print('Learned regression GBT model:')\n",
    "print(model.toDebugString())"
   ]
  },
  {
   "cell_type": "markdown",
   "metadata": {},
   "source": [
    "# Gradient Boosting Trees- 100 iterations"
   ]
  },
  {
   "cell_type": "code",
   "execution_count": 70,
   "metadata": {},
   "outputs": [],
   "source": [
    "# Tạo lại model với 100 vòng lặp\n",
    "model = GradientBoostedTrees.trainRegressor(trainingData,\n",
    "                                            categoricalFeaturesInfo={}, numIterations=100)"
   ]
  },
  {
   "cell_type": "code",
   "execution_count": 71,
   "metadata": {},
   "outputs": [],
   "source": [
    "# Khởi tạo dự đoán predict\n",
    "predictions = model.predict(testingData.map(lambda x: x.features))\n",
    "labelsAndPredictions = testingData.map(lambda lp: lp.label).zip(predictions)"
   ]
  },
  {
   "cell_type": "code",
   "execution_count": 72,
   "metadata": {},
   "outputs": [],
   "source": [
    "# Tính RMSE\n",
    "testMSE = labelsAndPredictions.map(lambda lp: (lp[0] - lp[1]) * (lp[0] - lp[1])).sum() /\\\n",
    "    float(testingData.count())\n",
    "TestRMSE = math.sqrt(testMSE)"
   ]
  },
  {
   "cell_type": "code",
   "execution_count": 73,
   "metadata": {},
   "outputs": [
    {
     "name": "stdout",
     "output_type": "stream",
     "text": [
      "Test Root Mean Squared Error = 0.6014036944941135\n"
     ]
    }
   ],
   "source": [
    "# In ra RMSE\n",
    "print('Test Root Mean Squared Error = ' + str(TestRMSE))"
   ]
  },
  {
   "cell_type": "markdown",
   "metadata": {},
   "source": [
    "# Tổng quan"
   ]
  },
  {
   "cell_type": "markdown",
   "metadata": {},
   "source": [
    "Như vậy, ta đã load dữ liệu, tiền xử lý dữ liệu, thăm dò dữ liệu với các biểu đồ cụ thể, lọc các dữ liệu không chính xác so với thực tế, đánh giá mối tương quan giữa các features so với label, căn chỉnh lại tỷ lệ giữa các features, thêm 1 số features mới.\n",
    "Cài đặt và chọn các Mô hình học máy để đánh giá giá của ngôi nhà."
   ]
  },
  {
   "cell_type": "code",
   "execution_count": null,
   "metadata": {},
   "outputs": [],
   "source": [
    "#Kết thúc phiên làm việc với SPARK\n",
    "sc.stop()"
   ]
  }
 ],
 "metadata": {
  "kernelspec": {
   "display_name": "Python 3",
   "language": "python",
   "name": "python3"
  },
  "language_info": {
   "codemirror_mode": {
    "name": "ipython",
    "version": 3
   },
   "file_extension": ".py",
   "mimetype": "text/x-python",
   "name": "python",
   "nbconvert_exporter": "python",
   "pygments_lexer": "ipython3",
   "version": "3.6.5"
  }
 },
 "nbformat": 4,
 "nbformat_minor": 2
}
